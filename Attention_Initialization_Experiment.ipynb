{
  "cells": [
    {
      "cell_type": "markdown",
      "metadata": {
        "id": "view-in-github",
        "colab_type": "text"
      },
      "source": [
        "<a href=\"https://colab.research.google.com/github/ducndh/refusal-orthogonal-vector/blob/main/Attention_Initialization_Experiment.ipynb\" target=\"_parent\"><img src=\"https://colab.research.google.com/assets/colab-badge.svg\" alt=\"Open In Colab\"/></a>"
      ]
    },
    {
      "cell_type": "markdown",
      "metadata": {
        "id": "ilFrNWxGOssD"
      },
      "source": [
        "# Setup"
      ]
    },
    {
      "cell_type": "code",
      "execution_count": 1,
      "metadata": {
        "colab": {
          "base_uri": "https://localhost:8080/"
        },
        "id": "1r0Vo4prOssJ",
        "outputId": "5ef50366-7e0e-4b23-8ad7-09fad70bbe6a"
      },
      "outputs": [
        {
          "output_type": "stream",
          "name": "stdout",
          "text": [
            "Requirement already satisfied: einops in /usr/local/lib/python3.10/dist-packages (0.8.0)\n",
            "Collecting git+https://github.com/neelnanda-io/Easy-Transformer@no-position-experiment\n",
            "  Cloning https://github.com/neelnanda-io/Easy-Transformer (to revision no-position-experiment) to /tmp/pip-req-build-7o4yx1qj\n",
            "  Running command git clone --filter=blob:none --quiet https://github.com/neelnanda-io/Easy-Transformer /tmp/pip-req-build-7o4yx1qj\n",
            "  Running command git checkout -b no-position-experiment --track origin/no-position-experiment\n",
            "  Switched to a new branch 'no-position-experiment'\n",
            "  Branch 'no-position-experiment' set up to track remote branch 'no-position-experiment' from 'origin'.\n",
            "  Resolved https://github.com/neelnanda-io/Easy-Transformer to commit 2b91e7ec49854f74363e5699ae4f8f99a595e65c\n",
            "  Preparing metadata (setup.py) ... \u001b[?25l\u001b[?25hdone\n",
            "Requirement already satisfied: einops in /usr/local/lib/python3.10/dist-packages (from easy_transformer==0.1.0) (0.8.0)\n",
            "Requirement already satisfied: numpy in /usr/local/lib/python3.10/dist-packages (from easy_transformer==0.1.0) (1.26.4)\n",
            "Requirement already satisfied: torch in /usr/local/lib/python3.10/dist-packages (from easy_transformer==0.1.0) (2.4.0+cu121)\n",
            "Collecting datasets (from easy_transformer==0.1.0)\n",
            "  Downloading datasets-3.0.0-py3-none-any.whl.metadata (19 kB)\n",
            "Requirement already satisfied: transformers in /usr/local/lib/python3.10/dist-packages (from easy_transformer==0.1.0) (4.44.2)\n",
            "Requirement already satisfied: tqdm in /usr/local/lib/python3.10/dist-packages (from easy_transformer==0.1.0) (4.66.5)\n",
            "Requirement already satisfied: pandas in /usr/local/lib/python3.10/dist-packages (from easy_transformer==0.1.0) (2.1.4)\n",
            "Collecting wandb (from easy_transformer==0.1.0)\n",
            "  Downloading wandb-0.18.1-py3-none-manylinux_2_17_x86_64.manylinux2014_x86_64.whl.metadata (9.6 kB)\n",
            "Collecting fancy_einsum (from easy_transformer==0.1.0)\n",
            "  Downloading fancy_einsum-0.0.3-py3-none-any.whl.metadata (1.2 kB)\n",
            "Requirement already satisfied: filelock in /usr/local/lib/python3.10/dist-packages (from datasets->easy_transformer==0.1.0) (3.16.0)\n",
            "Collecting pyarrow>=15.0.0 (from datasets->easy_transformer==0.1.0)\n",
            "  Downloading pyarrow-17.0.0-cp310-cp310-manylinux_2_28_x86_64.whl.metadata (3.3 kB)\n",
            "Collecting dill<0.3.9,>=0.3.0 (from datasets->easy_transformer==0.1.0)\n",
            "  Downloading dill-0.3.8-py3-none-any.whl.metadata (10 kB)\n",
            "Requirement already satisfied: requests>=2.32.2 in /usr/local/lib/python3.10/dist-packages (from datasets->easy_transformer==0.1.0) (2.32.3)\n",
            "Collecting xxhash (from datasets->easy_transformer==0.1.0)\n",
            "  Downloading xxhash-3.5.0-cp310-cp310-manylinux_2_17_x86_64.manylinux2014_x86_64.whl.metadata (12 kB)\n",
            "Collecting multiprocess (from datasets->easy_transformer==0.1.0)\n",
            "  Downloading multiprocess-0.70.16-py310-none-any.whl.metadata (7.2 kB)\n",
            "Requirement already satisfied: fsspec<=2024.6.1,>=2023.1.0 in /usr/local/lib/python3.10/dist-packages (from fsspec[http]<=2024.6.1,>=2023.1.0->datasets->easy_transformer==0.1.0) (2024.6.1)\n",
            "Requirement already satisfied: aiohttp in /usr/local/lib/python3.10/dist-packages (from datasets->easy_transformer==0.1.0) (3.10.5)\n",
            "Requirement already satisfied: huggingface-hub>=0.22.0 in /usr/local/lib/python3.10/dist-packages (from datasets->easy_transformer==0.1.0) (0.24.7)\n",
            "Requirement already satisfied: packaging in /usr/local/lib/python3.10/dist-packages (from datasets->easy_transformer==0.1.0) (24.1)\n",
            "Requirement already satisfied: pyyaml>=5.1 in /usr/local/lib/python3.10/dist-packages (from datasets->easy_transformer==0.1.0) (6.0.2)\n",
            "Requirement already satisfied: python-dateutil>=2.8.2 in /usr/local/lib/python3.10/dist-packages (from pandas->easy_transformer==0.1.0) (2.8.2)\n",
            "Requirement already satisfied: pytz>=2020.1 in /usr/local/lib/python3.10/dist-packages (from pandas->easy_transformer==0.1.0) (2024.2)\n",
            "Requirement already satisfied: tzdata>=2022.1 in /usr/local/lib/python3.10/dist-packages (from pandas->easy_transformer==0.1.0) (2024.1)\n",
            "Requirement already satisfied: typing-extensions>=4.8.0 in /usr/local/lib/python3.10/dist-packages (from torch->easy_transformer==0.1.0) (4.12.2)\n",
            "Requirement already satisfied: sympy in /usr/local/lib/python3.10/dist-packages (from torch->easy_transformer==0.1.0) (1.13.2)\n",
            "Requirement already satisfied: networkx in /usr/local/lib/python3.10/dist-packages (from torch->easy_transformer==0.1.0) (3.3)\n",
            "Requirement already satisfied: jinja2 in /usr/local/lib/python3.10/dist-packages (from torch->easy_transformer==0.1.0) (3.1.4)\n",
            "Requirement already satisfied: regex!=2019.12.17 in /usr/local/lib/python3.10/dist-packages (from transformers->easy_transformer==0.1.0) (2024.5.15)\n",
            "Requirement already satisfied: safetensors>=0.4.1 in /usr/local/lib/python3.10/dist-packages (from transformers->easy_transformer==0.1.0) (0.4.5)\n",
            "Requirement already satisfied: tokenizers<0.20,>=0.19 in /usr/local/lib/python3.10/dist-packages (from transformers->easy_transformer==0.1.0) (0.19.1)\n",
            "Requirement already satisfied: click!=8.0.0,>=7.1 in /usr/local/lib/python3.10/dist-packages (from wandb->easy_transformer==0.1.0) (8.1.7)\n",
            "Collecting docker-pycreds>=0.4.0 (from wandb->easy_transformer==0.1.0)\n",
            "  Downloading docker_pycreds-0.4.0-py2.py3-none-any.whl.metadata (1.8 kB)\n",
            "Collecting gitpython!=3.1.29,>=1.0.0 (from wandb->easy_transformer==0.1.0)\n",
            "  Downloading GitPython-3.1.43-py3-none-any.whl.metadata (13 kB)\n",
            "Requirement already satisfied: platformdirs in /usr/local/lib/python3.10/dist-packages (from wandb->easy_transformer==0.1.0) (4.3.2)\n",
            "Requirement already satisfied: protobuf!=4.21.0,!=5.28.0,<6,>=3.19.0 in /usr/local/lib/python3.10/dist-packages (from wandb->easy_transformer==0.1.0) (3.20.3)\n",
            "Requirement already satisfied: psutil>=5.0.0 in /usr/local/lib/python3.10/dist-packages (from wandb->easy_transformer==0.1.0) (5.9.5)\n",
            "Collecting sentry-sdk>=1.0.0 (from wandb->easy_transformer==0.1.0)\n",
            "  Downloading sentry_sdk-2.14.0-py2.py3-none-any.whl.metadata (9.7 kB)\n",
            "Collecting setproctitle (from wandb->easy_transformer==0.1.0)\n",
            "  Downloading setproctitle-1.3.3-cp310-cp310-manylinux_2_5_x86_64.manylinux1_x86_64.manylinux_2_17_x86_64.manylinux2014_x86_64.whl.metadata (9.9 kB)\n",
            "Requirement already satisfied: setuptools in /usr/local/lib/python3.10/dist-packages (from wandb->easy_transformer==0.1.0) (71.0.4)\n",
            "Requirement already satisfied: six>=1.4.0 in /usr/local/lib/python3.10/dist-packages (from docker-pycreds>=0.4.0->wandb->easy_transformer==0.1.0) (1.16.0)\n",
            "Requirement already satisfied: aiohappyeyeballs>=2.3.0 in /usr/local/lib/python3.10/dist-packages (from aiohttp->datasets->easy_transformer==0.1.0) (2.4.0)\n",
            "Requirement already satisfied: aiosignal>=1.1.2 in /usr/local/lib/python3.10/dist-packages (from aiohttp->datasets->easy_transformer==0.1.0) (1.3.1)\n",
            "Requirement already satisfied: attrs>=17.3.0 in /usr/local/lib/python3.10/dist-packages (from aiohttp->datasets->easy_transformer==0.1.0) (24.2.0)\n",
            "Requirement already satisfied: frozenlist>=1.1.1 in /usr/local/lib/python3.10/dist-packages (from aiohttp->datasets->easy_transformer==0.1.0) (1.4.1)\n",
            "Requirement already satisfied: multidict<7.0,>=4.5 in /usr/local/lib/python3.10/dist-packages (from aiohttp->datasets->easy_transformer==0.1.0) (6.1.0)\n",
            "Requirement already satisfied: yarl<2.0,>=1.0 in /usr/local/lib/python3.10/dist-packages (from aiohttp->datasets->easy_transformer==0.1.0) (1.11.1)\n",
            "Requirement already satisfied: async-timeout<5.0,>=4.0 in /usr/local/lib/python3.10/dist-packages (from aiohttp->datasets->easy_transformer==0.1.0) (4.0.3)\n",
            "Collecting gitdb<5,>=4.0.1 (from gitpython!=3.1.29,>=1.0.0->wandb->easy_transformer==0.1.0)\n",
            "  Downloading gitdb-4.0.11-py3-none-any.whl.metadata (1.2 kB)\n",
            "Requirement already satisfied: charset-normalizer<4,>=2 in /usr/local/lib/python3.10/dist-packages (from requests>=2.32.2->datasets->easy_transformer==0.1.0) (3.3.2)\n",
            "Requirement already satisfied: idna<4,>=2.5 in /usr/local/lib/python3.10/dist-packages (from requests>=2.32.2->datasets->easy_transformer==0.1.0) (3.8)\n",
            "Requirement already satisfied: urllib3<3,>=1.21.1 in /usr/local/lib/python3.10/dist-packages (from requests>=2.32.2->datasets->easy_transformer==0.1.0) (2.0.7)\n",
            "Requirement already satisfied: certifi>=2017.4.17 in /usr/local/lib/python3.10/dist-packages (from requests>=2.32.2->datasets->easy_transformer==0.1.0) (2024.8.30)\n",
            "Requirement already satisfied: MarkupSafe>=2.0 in /usr/local/lib/python3.10/dist-packages (from jinja2->torch->easy_transformer==0.1.0) (2.1.5)\n",
            "Requirement already satisfied: mpmath<1.4,>=1.1.0 in /usr/local/lib/python3.10/dist-packages (from sympy->torch->easy_transformer==0.1.0) (1.3.0)\n",
            "Collecting smmap<6,>=3.0.1 (from gitdb<5,>=4.0.1->gitpython!=3.1.29,>=1.0.0->wandb->easy_transformer==0.1.0)\n",
            "  Downloading smmap-5.0.1-py3-none-any.whl.metadata (4.3 kB)\n",
            "Downloading datasets-3.0.0-py3-none-any.whl (474 kB)\n",
            "\u001b[2K   \u001b[90m━━━━━━━━━━━━━━━━━━━━━━━━━━━━━━━━━━━━━━━━\u001b[0m \u001b[32m474.3/474.3 kB\u001b[0m \u001b[31m3.2 MB/s\u001b[0m eta \u001b[36m0:00:00\u001b[0m\n",
            "\u001b[?25hDownloading fancy_einsum-0.0.3-py3-none-any.whl (6.2 kB)\n",
            "Downloading wandb-0.18.1-py3-none-manylinux_2_17_x86_64.manylinux2014_x86_64.whl (9.7 MB)\n",
            "\u001b[2K   \u001b[90m━━━━━━━━━━━━━━━━━━━━━━━━━━━━━━━━━━━━━━━━\u001b[0m \u001b[32m9.7/9.7 MB\u001b[0m \u001b[31m47.7 MB/s\u001b[0m eta \u001b[36m0:00:00\u001b[0m\n",
            "\u001b[?25hDownloading dill-0.3.8-py3-none-any.whl (116 kB)\n",
            "\u001b[2K   \u001b[90m━━━━━━━━━━━━━━━━━━━━━━━━━━━━━━━━━━━━━━━━\u001b[0m \u001b[32m116.3/116.3 kB\u001b[0m \u001b[31m7.2 MB/s\u001b[0m eta \u001b[36m0:00:00\u001b[0m\n",
            "\u001b[?25hDownloading docker_pycreds-0.4.0-py2.py3-none-any.whl (9.0 kB)\n",
            "Downloading GitPython-3.1.43-py3-none-any.whl (207 kB)\n",
            "\u001b[2K   \u001b[90m━━━━━━━━━━━━━━━━━━━━━━━━━━━━━━━━━━━━━━━━\u001b[0m \u001b[32m207.3/207.3 kB\u001b[0m \u001b[31m5.2 MB/s\u001b[0m eta \u001b[36m0:00:00\u001b[0m\n",
            "\u001b[?25hDownloading pyarrow-17.0.0-cp310-cp310-manylinux_2_28_x86_64.whl (39.9 MB)\n",
            "\u001b[2K   \u001b[90m━━━━━━━━━━━━━━━━━━━━━━━━━━━━━━━━━━━━━━━━\u001b[0m \u001b[32m39.9/39.9 MB\u001b[0m \u001b[31m19.8 MB/s\u001b[0m eta \u001b[36m0:00:00\u001b[0m\n",
            "\u001b[?25hDownloading sentry_sdk-2.14.0-py2.py3-none-any.whl (311 kB)\n",
            "\u001b[2K   \u001b[90m━━━━━━━━━━━━━━━━━━━━━━━━━━━━━━━━━━━━━━━━\u001b[0m \u001b[32m311.4/311.4 kB\u001b[0m \u001b[31m12.1 MB/s\u001b[0m eta \u001b[36m0:00:00\u001b[0m\n",
            "\u001b[?25hDownloading multiprocess-0.70.16-py310-none-any.whl (134 kB)\n",
            "\u001b[2K   \u001b[90m━━━━━━━━━━━━━━━━━━━━━━━━━━━━━━━━━━━━━━━━\u001b[0m \u001b[32m134.8/134.8 kB\u001b[0m \u001b[31m5.8 MB/s\u001b[0m eta \u001b[36m0:00:00\u001b[0m\n",
            "\u001b[?25hDownloading setproctitle-1.3.3-cp310-cp310-manylinux_2_5_x86_64.manylinux1_x86_64.manylinux_2_17_x86_64.manylinux2014_x86_64.whl (30 kB)\n",
            "Downloading xxhash-3.5.0-cp310-cp310-manylinux_2_17_x86_64.manylinux2014_x86_64.whl (194 kB)\n",
            "\u001b[2K   \u001b[90m━━━━━━━━━━━━━━━━━━━━━━━━━━━━━━━━━━━━━━━━\u001b[0m \u001b[32m194.1/194.1 kB\u001b[0m \u001b[31m9.5 MB/s\u001b[0m eta \u001b[36m0:00:00\u001b[0m\n",
            "\u001b[?25hDownloading gitdb-4.0.11-py3-none-any.whl (62 kB)\n",
            "\u001b[2K   \u001b[90m━━━━━━━━━━━━━━━━━━━━━━━━━━━━━━━━━━━━━━━━\u001b[0m \u001b[32m62.7/62.7 kB\u001b[0m \u001b[31m3.8 MB/s\u001b[0m eta \u001b[36m0:00:00\u001b[0m\n",
            "\u001b[?25hDownloading smmap-5.0.1-py3-none-any.whl (24 kB)\n",
            "Building wheels for collected packages: easy_transformer\n",
            "  Building wheel for easy_transformer (setup.py) ... \u001b[?25l\u001b[?25hdone\n",
            "  Created wheel for easy_transformer: filename=easy_transformer-0.1.0-py3-none-any.whl size=55660 sha256=91ec82a173123cf7a40e6491146828f879ddbb21539b89f2f5fdac76ff54b377\n",
            "  Stored in directory: /tmp/pip-ephem-wheel-cache-hhrugpf3/wheels/4f/b7/ea/e1a5975c23490cbaf7b1b33c200c76d5818805b7f82ddd1798\n",
            "Successfully built easy_transformer\n",
            "Installing collected packages: xxhash, smmap, setproctitle, sentry-sdk, pyarrow, fancy_einsum, docker-pycreds, dill, multiprocess, gitdb, gitpython, wandb, datasets, easy_transformer\n",
            "  Attempting uninstall: pyarrow\n",
            "    Found existing installation: pyarrow 14.0.2\n",
            "    Uninstalling pyarrow-14.0.2:\n",
            "      Successfully uninstalled pyarrow-14.0.2\n",
            "\u001b[31mERROR: pip's dependency resolver does not currently take into account all the packages that are installed. This behaviour is the source of the following dependency conflicts.\n",
            "cudf-cu12 24.4.1 requires pyarrow<15.0.0a0,>=14.0.1, but you have pyarrow 17.0.0 which is incompatible.\n",
            "ibis-framework 8.0.0 requires pyarrow<16,>=2, but you have pyarrow 17.0.0 which is incompatible.\u001b[0m\u001b[31m\n",
            "\u001b[0mSuccessfully installed datasets-3.0.0 dill-0.3.8 docker-pycreds-0.4.0 easy_transformer-0.1.0 fancy_einsum-0.0.3 gitdb-4.0.11 gitpython-3.1.43 multiprocess-0.70.16 pyarrow-17.0.0 sentry-sdk-2.14.0 setproctitle-1.3.3 smmap-5.0.1 wandb-0.18.1 xxhash-3.5.0\n"
          ]
        }
      ],
      "source": [
        "try:\n",
        "    import google.colab\n",
        "    IN_COLAB = True\n",
        "    !pip install einops\n",
        "    !pip install git+https://github.com/neelnanda-io/Easy-Transformer@no-position-experiment\n",
        "except:\n",
        "    IN_COLAB = False\n",
        "\n",
        "from easy_transformer import EasyTransformer, EasyTransformerConfig\n",
        "import torch\n",
        "import numpy as np\n",
        "import plotly.express as px\n",
        "import plotly.io as pio\n",
        "pio.renderers.default = \"colab\"\n",
        "import tqdm.auto as tqdm\n",
        "import einops\n",
        "from easy_transformer.utils import to_numpy"
      ]
    },
    {
      "cell_type": "markdown",
      "metadata": {
        "id": "SE4XVswaOssM"
      },
      "source": [
        "Some plotting code. Wrappers around Plotly, not important to understand."
      ]
    },
    {
      "cell_type": "code",
      "execution_count": 2,
      "metadata": {
        "id": "pRqAuMNkOssM"
      },
      "outputs": [],
      "source": [
        "def line(tensor, line_labels=None, yaxis=\"\", xaxis=\"\", **kwargs):\n",
        "    tensor = to_numpy(tensor)\n",
        "    labels = {\"y\":yaxis, \"x\":xaxis}\n",
        "    fig = px.line(tensor, labels=labels, **kwargs)\n",
        "    if line_labels:\n",
        "        for c, label in enumerate(line_labels):\n",
        "            fig.data[c].name = label\n",
        "    fig.show()\n",
        "\n",
        "def imshow(tensor, yaxis=\"\", xaxis=\"\", **kwargs):\n",
        "    tensor = to_numpy(tensor)\n",
        "    plot_kwargs = {\"color_continuous_scale\":\"RdBu\", \"color_continuous_midpoint\":0.0, \"labels\":{\"x\":xaxis, \"y\":yaxis}}\n",
        "    plot_kwargs.update(kwargs)\n",
        "    px.imshow(tensor, **plot_kwargs).show()"
      ]
    },
    {
      "cell_type": "markdown",
      "metadata": {
        "id": "TXet2e28OssN"
      },
      "source": [
        "# Model Training"
      ]
    },
    {
      "cell_type": "markdown",
      "metadata": {
        "id": "7VF14Ni7OssN"
      },
      "source": [
        "## Setup"
      ]
    },
    {
      "cell_type": "markdown",
      "metadata": {
        "id": "cMY_sdA6OssQ"
      },
      "source": [
        "### Define data + Loss function"
      ]
    },
    {
      "cell_type": "code",
      "execution_count": 73,
      "metadata": {
        "colab": {
          "base_uri": "https://localhost:8080/"
        },
        "id": "A6ARiHaQOssR",
        "outputId": "21440034-8b0f-4acd-e38a-73ba8a661fab"
      },
      "outputs": [
        {
          "output_type": "stream",
          "name": "stdout",
          "text": [
            "tensor([[  0,  93,  34, 155, 274, 116, 114, 248,  68,   3, 298,  83, 194,  20,\n",
            "           8, 133,  32,  66,  62,  73, 210, 273,  46, 243, 104, 232, 161, 125,\n",
            "         123, 251,   7,   4, 115, 127,  21,   1,  89, 142,   6,  15, 298, 251,\n",
            "          88, 229, 108, 114,  23,  88,   3, 265],\n",
            "        [  0, 118,  46, 274, 105, 268, 131,  35,  19,  58, 226, 278,  27,  25,\n",
            "         276, 180, 164,   4,  95,  27,  74, 201, 105,  65,  80, 185,  44, 258,\n",
            "         105,  60,  58,  47, 126,  60, 294, 253, 258, 136,  29, 101, 258,  77,\n",
            "          80, 180, 159, 169, 122, 117,  27, 194]])\n"
          ]
        }
      ],
      "source": [
        "def make_data_generator(cfg, batch_size, seed=123, incl_bos_token=True):\n",
        "    torch.manual_seed(seed)\n",
        "    while True:\n",
        "        x = torch.randint(1, cfg.d_vocab, (batch_size, cfg.n_ctx))\n",
        "        if incl_bos_token:\n",
        "            x[:, 0] = 0\n",
        "        yield x\n",
        "data_generator = make_data_generator(cfg, 2)\n",
        "print(next(data_generator))"
      ]
    },
    {
      "cell_type": "code",
      "execution_count": 74,
      "metadata": {
        "id": "pk-rvtshOssR"
      },
      "outputs": [],
      "source": [
        "def loss_fn(logits, tokens, return_per_token=False):\n",
        "    # logit shape: [batch, pos, vocab]\n",
        "    # token shape: [batch, pos]\n",
        "    logits = logits[:, 1:]\n",
        "    tokens = tokens[:, :-1]\n",
        "    log_probs = logits.log_softmax(-1)\n",
        "    correct_log_probs = log_probs.gather(-1, tokens[..., None])[..., 0]\n",
        "    if return_per_token:\n",
        "        return -correct_log_probs\n",
        "    else:\n",
        "        return -correct_log_probs.mean()"
      ]
    },
    {
      "cell_type": "code",
      "execution_count": 75,
      "metadata": {
        "colab": {
          "base_uri": "https://localhost:8080/"
        },
        "id": "6uJ8eLiFOssR",
        "outputId": "51575532-35e7-4ed5-c18b-5efadd9eef1a"
      },
      "outputs": [
        {
          "output_type": "stream",
          "name": "stdout",
          "text": [
            "tensor([[0.0004, 0.0003, 0.0031, 0.0005]])\n",
            "tensor(0.0011)\n"
          ]
        }
      ],
      "source": [
        "# Test the loss function works\n",
        "test_tokens = torch.arange(5)[None, :]\n",
        "test_logits = torch.randn(1, 5, 10)\n",
        "test_logits[:, 1, 0]=10.\n",
        "test_logits[:, 2, 1]=10.\n",
        "test_logits[:, 3, 2]=10.\n",
        "test_logits[:, 4, 3]=10.\n",
        "print(loss_fn(test_logits, test_tokens, return_per_token=True))\n",
        "print(loss_fn(test_logits, test_tokens, return_per_token=False))"
      ]
    },
    {
      "cell_type": "markdown",
      "metadata": {
        "id": "aFg_0ZxKOssO"
      },
      "source": [
        "### Defining the Model"
      ]
    },
    {
      "cell_type": "code",
      "execution_count": 206,
      "metadata": {
        "colab": {
          "base_uri": "https://localhost:8080/"
        },
        "id": "SaLXDr1aOssO",
        "outputId": "20916389-eaa7-4a82-9ba7-b66ca679c56f"
      },
      "outputs": [
        {
          "output_type": "stream",
          "name": "stdout",
          "text": [
            "Moving model to device:  cpu\n"
          ]
        }
      ],
      "source": [
        "cfg = EasyTransformerConfig(\n",
        "    n_layers = 2,\n",
        "    d_model=64,\n",
        "    d_head=16,\n",
        "    n_heads=4,\n",
        "    d_mlp=256,\n",
        "    d_vocab=300,\n",
        "    n_ctx=50,\n",
        "    act_fn='relu',\n",
        "    normalization_type=\"LN\",\n",
        ")\n",
        "model = EasyTransformer(cfg)"
      ]
    },
    {
      "cell_type": "code",
      "source": [
        "model.blocks[0].state_dict()"
      ],
      "metadata": {
        "colab": {
          "base_uri": "https://localhost:8080/"
        },
        "id": "YC7Z5dyGal1R",
        "outputId": "7945e864-ab86-4c7f-e5cd-7899a87eef75",
        "collapsed": true
      },
      "execution_count": 207,
      "outputs": [
        {
          "output_type": "execute_result",
          "data": {
            "text/plain": [
              "OrderedDict([('ln1.w',\n",
              "              tensor([1., 1., 1., 1., 1., 1., 1., 1., 1., 1., 1., 1., 1., 1., 1., 1., 1., 1.,\n",
              "                      1., 1., 1., 1., 1., 1., 1., 1., 1., 1., 1., 1., 1., 1., 1., 1., 1., 1.,\n",
              "                      1., 1., 1., 1., 1., 1., 1., 1., 1., 1., 1., 1., 1., 1., 1., 1., 1., 1.,\n",
              "                      1., 1., 1., 1., 1., 1., 1., 1., 1., 1.])),\n",
              "             ('ln1.b',\n",
              "              tensor([0., 0., 0., 0., 0., 0., 0., 0., 0., 0., 0., 0., 0., 0., 0., 0., 0., 0., 0., 0., 0., 0., 0., 0.,\n",
              "                      0., 0., 0., 0., 0., 0., 0., 0., 0., 0., 0., 0., 0., 0., 0., 0., 0., 0., 0., 0., 0., 0., 0., 0.,\n",
              "                      0., 0., 0., 0., 0., 0., 0., 0., 0., 0., 0., 0., 0., 0., 0., 0.])),\n",
              "             ('ln2.w',\n",
              "              tensor([1., 1., 1., 1., 1., 1., 1., 1., 1., 1., 1., 1., 1., 1., 1., 1., 1., 1.,\n",
              "                      1., 1., 1., 1., 1., 1., 1., 1., 1., 1., 1., 1., 1., 1., 1., 1., 1., 1.,\n",
              "                      1., 1., 1., 1., 1., 1., 1., 1., 1., 1., 1., 1., 1., 1., 1., 1., 1., 1.,\n",
              "                      1., 1., 1., 1., 1., 1., 1., 1., 1., 1.])),\n",
              "             ('ln2.b',\n",
              "              tensor([0., 0., 0., 0., 0., 0., 0., 0., 0., 0., 0., 0., 0., 0., 0., 0., 0., 0., 0., 0., 0., 0., 0., 0.,\n",
              "                      0., 0., 0., 0., 0., 0., 0., 0., 0., 0., 0., 0., 0., 0., 0., 0., 0., 0., 0., 0., 0., 0., 0., 0.,\n",
              "                      0., 0., 0., 0., 0., 0., 0., 0., 0., 0., 0., 0., 0., 0., 0., 0.])),\n",
              "             ('attn.W_Q',\n",
              "              tensor([[[ 0.0253,  0.2366, -0.1061,  ..., -0.0652,  0.0280, -0.2112],\n",
              "                       [ 0.0003, -0.0793, -0.0032,  ...,  0.0725, -0.1783, -0.0779],\n",
              "                       [ 0.0454, -0.0644,  0.0376,  ...,  0.0997,  0.2580,  0.0604],\n",
              "                       ...,\n",
              "                       [-0.0304, -0.0751, -0.0753,  ..., -0.0020, -0.0477,  0.0103],\n",
              "                       [ 0.0294,  0.0202,  0.0554,  ..., -0.0466,  0.0026,  0.0712],\n",
              "                       [ 0.2720, -0.0647, -0.1073,  ...,  0.0254,  0.0256,  0.0658]],\n",
              "              \n",
              "                      [[-0.1156, -0.1389,  0.1460,  ..., -0.1273, -0.0462,  0.0847],\n",
              "                       [ 0.0526, -0.0887,  0.0799,  ...,  0.0185, -0.1126, -0.1573],\n",
              "                       [-0.1195,  0.1344, -0.0730,  ...,  0.0446,  0.0676,  0.0814],\n",
              "                       ...,\n",
              "                       [-0.1702, -0.0180,  0.0339,  ...,  0.0483, -0.0677, -0.1266],\n",
              "                       [ 0.0218, -0.1614, -0.0363,  ..., -0.1205,  0.0603, -0.0345],\n",
              "                       [-0.0200, -0.0034,  0.0300,  ..., -0.1534,  0.0342,  0.0437]],\n",
              "              \n",
              "                      [[ 0.1531, -0.0229, -0.0773,  ..., -0.1089,  0.0350,  0.0082],\n",
              "                       [-0.1015, -0.1317,  0.0804,  ...,  0.0830, -0.0615,  0.0314],\n",
              "                       [ 0.0327, -0.0050,  0.1248,  ...,  0.0517, -0.0977, -0.0386],\n",
              "                       ...,\n",
              "                       [-0.1081, -0.1572, -0.1811,  ...,  0.0952, -0.0505,  0.0687],\n",
              "                       [-0.0016,  0.1743,  0.1192,  ..., -0.0341,  0.0437, -0.0338],\n",
              "                       [ 0.1525, -0.0965,  0.0287,  ...,  0.0608, -0.1519, -0.0229]],\n",
              "              \n",
              "                      [[-0.1161, -0.1649,  0.0683,  ...,  0.0936, -0.1193, -0.0195],\n",
              "                       [ 0.0296,  0.1304,  0.0388,  ..., -0.0668,  0.0047,  0.0780],\n",
              "                       [-0.0828, -0.0833,  0.1787,  ..., -0.0241,  0.0761,  0.0182],\n",
              "                       ...,\n",
              "                       [ 0.0880, -0.0457,  0.0141,  ...,  0.0091, -0.0796,  0.0507],\n",
              "                       [-0.1066, -0.2069, -0.0784,  ..., -0.0690,  0.1328,  0.0756],\n",
              "                       [ 0.0152,  0.0546, -0.1203,  ..., -0.0336,  0.0369,  0.0018]]])),\n",
              "             ('attn.W_K',\n",
              "              tensor([[[-0.0536, -0.1676,  0.1268,  ..., -0.0072,  0.0578,  0.0177],\n",
              "                       [ 0.0373,  0.0096, -0.0759,  ...,  0.2077, -0.0224, -0.1651],\n",
              "                       [-0.1662, -0.1322, -0.0056,  ...,  0.1665, -0.0386,  0.0235],\n",
              "                       ...,\n",
              "                       [-0.0643,  0.1534, -0.0685,  ...,  0.0236,  0.0142,  0.0548],\n",
              "                       [ 0.0684, -0.1023, -0.1401,  ..., -0.0364, -0.0981,  0.0693],\n",
              "                       [ 0.1590, -0.1035,  0.0297,  ..., -0.0876, -0.0186, -0.1069]],\n",
              "              \n",
              "                      [[-0.0910,  0.0108, -0.0846,  ...,  0.0089, -0.0726, -0.0459],\n",
              "                       [-0.0354, -0.0116, -0.1705,  ...,  0.1879,  0.0310, -0.0624],\n",
              "                       [ 0.1106,  0.0246, -0.1363,  ...,  0.0103, -0.0393, -0.0442],\n",
              "                       ...,\n",
              "                       [ 0.1495, -0.0593,  0.0006,  ..., -0.2771,  0.0011, -0.0303],\n",
              "                       [-0.0757, -0.1535,  0.0539,  ...,  0.0808,  0.2749,  0.0114],\n",
              "                       [ 0.1736, -0.1493,  0.1274,  ..., -0.1620,  0.0889,  0.1804]],\n",
              "              \n",
              "                      [[ 0.2287,  0.0287,  0.0574,  ...,  0.0619, -0.0548,  0.1340],\n",
              "                       [ 0.1362,  0.0476, -0.2452,  ..., -0.0945,  0.1513,  0.0077],\n",
              "                       [-0.0379,  0.0151, -0.0787,  ..., -0.0724, -0.0017, -0.0703],\n",
              "                       ...,\n",
              "                       [ 0.0317, -0.0555, -0.0781,  ...,  0.0764,  0.1591,  0.2548],\n",
              "                       [ 0.0140,  0.0270, -0.1019,  ...,  0.0875,  0.0385,  0.0403],\n",
              "                       [-0.1030,  0.1483,  0.0241,  ...,  0.0142,  0.0115,  0.0804]],\n",
              "              \n",
              "                      [[-0.1141, -0.1531,  0.0839,  ...,  0.1398,  0.0144, -0.0203],\n",
              "                       [ 0.0099, -0.0184,  0.0302,  ..., -0.0789,  0.0113, -0.1521],\n",
              "                       [ 0.0105,  0.0503,  0.0087,  ...,  0.1189, -0.0366, -0.0124],\n",
              "                       ...,\n",
              "                       [ 0.0355, -0.1479, -0.1280,  ...,  0.0852, -0.1025, -0.0379],\n",
              "                       [-0.0671, -0.0577,  0.0442,  ..., -0.1752,  0.0240, -0.0065],\n",
              "                       [-0.0811,  0.0963,  0.1107,  ..., -0.1890,  0.0495,  0.0595]]])),\n",
              "             ('attn.W_V',\n",
              "              tensor([[[-5.2719e-02, -1.5078e-01, -2.1248e-01,  ..., -8.7065e-02,\n",
              "                        -9.8793e-02,  7.9077e-02],\n",
              "                       [-3.4500e-02,  1.1621e-02, -5.1465e-02,  ..., -4.4149e-02,\n",
              "                        -7.1121e-02,  5.0848e-02],\n",
              "                       [-1.2143e-01, -1.1592e-01, -2.4650e-02,  ...,  2.4553e-01,\n",
              "                         3.5845e-02,  4.6694e-02],\n",
              "                       ...,\n",
              "                       [-8.6885e-02, -1.4454e-01, -1.4042e-01,  ...,  6.4381e-03,\n",
              "                         8.9471e-02,  5.9881e-06],\n",
              "                       [-1.8079e-02,  3.7195e-02, -9.4693e-02,  ..., -9.8651e-02,\n",
              "                         1.9816e-01,  5.6811e-02],\n",
              "                       [-6.4752e-02,  1.1845e-01, -8.6064e-02,  ..., -9.7799e-02,\n",
              "                         1.3103e-01, -3.7199e-02]],\n",
              "              \n",
              "                      [[-2.8353e-02,  1.4602e-01,  2.7691e-02,  ..., -6.9711e-04,\n",
              "                        -2.8039e-03,  8.0436e-03],\n",
              "                       [-1.1641e-01,  9.5428e-03,  2.9445e-02,  ..., -1.7263e-01,\n",
              "                         4.5137e-02, -1.1714e-01],\n",
              "                       [ 9.6897e-02, -8.3424e-02, -1.1508e-01,  ..., -5.3190e-02,\n",
              "                        -4.9867e-02, -2.6166e-02],\n",
              "                       ...,\n",
              "                       [-7.4685e-02, -1.9273e-01, -1.2178e-01,  ...,  3.1433e-02,\n",
              "                        -6.9953e-02, -4.9352e-02],\n",
              "                       [-6.5004e-02,  1.0550e-01, -2.1816e-02,  ..., -4.0530e-02,\n",
              "                         4.9673e-02, -6.3704e-02],\n",
              "                       [ 7.8160e-02, -5.2376e-02, -6.4984e-02,  ...,  1.0498e-01,\n",
              "                         1.2419e-01,  7.9122e-02]],\n",
              "              \n",
              "                      [[ 7.1989e-02, -1.6989e-01,  5.1860e-02,  ...,  9.1948e-02,\n",
              "                        -2.1095e-01,  1.3200e-01],\n",
              "                       [ 2.0506e-01,  4.7798e-02, -3.0343e-01,  ..., -5.7051e-02,\n",
              "                         2.1070e-02,  1.5116e-01],\n",
              "                       [-4.8557e-02,  1.3922e-01, -6.6232e-02,  ..., -2.8969e-02,\n",
              "                         6.1580e-02, -8.1392e-02],\n",
              "                       ...,\n",
              "                       [ 4.8202e-02,  2.4260e-02, -4.2955e-02,  ..., -1.2926e-01,\n",
              "                         1.2273e-01,  1.6858e-01],\n",
              "                       [ 8.7951e-03, -1.8562e-01,  2.3056e-01,  ...,  1.1075e-01,\n",
              "                        -4.7776e-02,  2.4757e-01],\n",
              "                       [-7.7230e-02, -9.4522e-02,  2.3790e-02,  ...,  3.2248e-02,\n",
              "                         1.0176e-02,  1.7250e-01]],\n",
              "              \n",
              "                      [[-8.0992e-02,  1.8297e-02,  1.2008e-01,  ...,  1.5306e-01,\n",
              "                        -2.5611e-02, -9.4051e-02],\n",
              "                       [ 5.1335e-03,  4.9977e-03, -2.1350e-02,  ...,  4.6422e-02,\n",
              "                        -9.2308e-02,  1.3742e-03],\n",
              "                       [ 1.7136e-01, -2.3306e-02, -6.6542e-02,  ..., -6.6522e-02,\n",
              "                         3.5348e-02,  1.9792e-02],\n",
              "                       ...,\n",
              "                       [ 1.2387e-01, -6.3193e-02,  1.6301e-01,  ...,  1.4256e-01,\n",
              "                         2.3416e-02,  4.3515e-02],\n",
              "                       [-7.6894e-02,  1.5940e-02, -6.9487e-03,  ..., -9.6114e-02,\n",
              "                         6.1799e-02, -5.8305e-02],\n",
              "                       [-2.0181e-01,  4.9715e-02, -1.0901e-01,  ..., -8.5903e-02,\n",
              "                        -1.2892e-01, -1.7783e-02]]])),\n",
              "             ('attn.W_O',\n",
              "              tensor([[[-0.0486, -0.0306, -0.0954,  ..., -0.0992, -0.0397, -0.0505],\n",
              "                       [-0.1539, -0.0575, -0.0744,  ..., -0.0818,  0.0821,  0.0170],\n",
              "                       [-0.0560, -0.0012,  0.1265,  ...,  0.0158,  0.0577, -0.0452],\n",
              "                       ...,\n",
              "                       [-0.0095, -0.0347, -0.0171,  ...,  0.0826, -0.0750, -0.0608],\n",
              "                       [-0.0005,  0.1332, -0.0550,  ...,  0.1601,  0.1936,  0.0907],\n",
              "                       [-0.0114, -0.1661,  0.0094,  ..., -0.0677,  0.2092,  0.1817]],\n",
              "              \n",
              "                      [[-0.0201, -0.0835, -0.0702,  ...,  0.2188, -0.1428, -0.0160],\n",
              "                       [ 0.2070,  0.2684,  0.0911,  ..., -0.1120, -0.0083,  0.0961],\n",
              "                       [ 0.0262,  0.0736,  0.0759,  ..., -0.0397,  0.0773,  0.1491],\n",
              "                       ...,\n",
              "                       [ 0.0186,  0.1882, -0.0589,  ...,  0.0764, -0.1889,  0.0514],\n",
              "                       [-0.0422,  0.0460, -0.1181,  ..., -0.0431, -0.0737,  0.1317],\n",
              "                       [ 0.1256,  0.0273,  0.0487,  ..., -0.0909, -0.1090,  0.1850]],\n",
              "              \n",
              "                      [[ 0.0472, -0.0546,  0.0013,  ..., -0.0840,  0.0347, -0.0594],\n",
              "                       [ 0.0354, -0.0754,  0.0809,  ..., -0.0008,  0.1226, -0.0336],\n",
              "                       [-0.0643, -0.0161, -0.1593,  ...,  0.0020, -0.1617, -0.1230],\n",
              "                       ...,\n",
              "                       [ 0.0514,  0.0235,  0.1299,  ..., -0.0360, -0.1042,  0.0070],\n",
              "                       [ 0.0059,  0.0752, -0.0289,  ...,  0.0362,  0.0795, -0.0814],\n",
              "                       [-0.0990,  0.0410, -0.1105,  ...,  0.0466, -0.0354,  0.0616]],\n",
              "              \n",
              "                      [[ 0.0261, -0.0491, -0.1259,  ..., -0.1294,  0.1442, -0.1793],\n",
              "                       [-0.0011,  0.1440,  0.1636,  ...,  0.0642,  0.1190, -0.1168],\n",
              "                       [-0.0084,  0.1297,  0.0506,  ...,  0.1452, -0.0491, -0.1245],\n",
              "                       ...,\n",
              "                       [ 0.0447, -0.0695, -0.1343,  ..., -0.2446, -0.1602, -0.1211],\n",
              "                       [-0.0366, -0.1395,  0.0811,  ...,  0.1693, -0.0167,  0.0426],\n",
              "                       [ 0.2014,  0.0036, -0.0020,  ...,  0.1541, -0.2536,  0.2577]]])),\n",
              "             ('attn.b_Q',\n",
              "              tensor([[0., 0., 0., 0., 0., 0., 0., 0., 0., 0., 0., 0., 0., 0., 0., 0.],\n",
              "                      [0., 0., 0., 0., 0., 0., 0., 0., 0., 0., 0., 0., 0., 0., 0., 0.],\n",
              "                      [0., 0., 0., 0., 0., 0., 0., 0., 0., 0., 0., 0., 0., 0., 0., 0.],\n",
              "                      [0., 0., 0., 0., 0., 0., 0., 0., 0., 0., 0., 0., 0., 0., 0., 0.]])),\n",
              "             ('attn.b_K',\n",
              "              tensor([[0., 0., 0., 0., 0., 0., 0., 0., 0., 0., 0., 0., 0., 0., 0., 0.],\n",
              "                      [0., 0., 0., 0., 0., 0., 0., 0., 0., 0., 0., 0., 0., 0., 0., 0.],\n",
              "                      [0., 0., 0., 0., 0., 0., 0., 0., 0., 0., 0., 0., 0., 0., 0., 0.],\n",
              "                      [0., 0., 0., 0., 0., 0., 0., 0., 0., 0., 0., 0., 0., 0., 0., 0.]])),\n",
              "             ('attn.b_V',\n",
              "              tensor([[0., 0., 0., 0., 0., 0., 0., 0., 0., 0., 0., 0., 0., 0., 0., 0.],\n",
              "                      [0., 0., 0., 0., 0., 0., 0., 0., 0., 0., 0., 0., 0., 0., 0., 0.],\n",
              "                      [0., 0., 0., 0., 0., 0., 0., 0., 0., 0., 0., 0., 0., 0., 0., 0.],\n",
              "                      [0., 0., 0., 0., 0., 0., 0., 0., 0., 0., 0., 0., 0., 0., 0., 0.]])),\n",
              "             ('attn.b_O',\n",
              "              tensor([0., 0., 0., 0., 0., 0., 0., 0., 0., 0., 0., 0., 0., 0., 0., 0., 0., 0., 0., 0., 0., 0., 0., 0.,\n",
              "                      0., 0., 0., 0., 0., 0., 0., 0., 0., 0., 0., 0., 0., 0., 0., 0., 0., 0., 0., 0., 0., 0., 0., 0.,\n",
              "                      0., 0., 0., 0., 0., 0., 0., 0., 0., 0., 0., 0., 0., 0., 0., 0.])),\n",
              "             ('attn.mask',\n",
              "              tensor([[ True, False, False,  ..., False, False, False],\n",
              "                      [ True,  True, False,  ..., False, False, False],\n",
              "                      [ True,  True,  True,  ..., False, False, False],\n",
              "                      ...,\n",
              "                      [ True,  True,  True,  ...,  True, False, False],\n",
              "                      [ True,  True,  True,  ...,  True,  True, False],\n",
              "                      [ True,  True,  True,  ...,  True,  True,  True]])),\n",
              "             ('attn.IGNORE', tensor(-100000.)),\n",
              "             ('mlp.W_in',\n",
              "              tensor([[ 0.0406,  0.0062,  0.0538,  ..., -0.0587,  0.1079, -0.0946],\n",
              "                      [ 0.0503,  0.0387,  0.0047,  ...,  0.0199,  0.1132, -0.0220],\n",
              "                      [ 0.1113, -0.0416,  0.0813,  ..., -0.1123,  0.0825, -0.0311],\n",
              "                      ...,\n",
              "                      [ 0.0522, -0.0688,  0.1541,  ..., -0.0137, -0.0378,  0.1631],\n",
              "                      [-0.0538, -0.0341,  0.0509,  ...,  0.1666, -0.0557, -0.1355],\n",
              "                      [-0.0409,  0.0365,  0.0621,  ..., -0.0352, -0.1068,  0.0273]])),\n",
              "             ('mlp.b_in',\n",
              "              tensor([0., 0., 0., 0., 0., 0., 0., 0., 0., 0., 0., 0., 0., 0., 0., 0., 0., 0., 0., 0., 0., 0., 0., 0.,\n",
              "                      0., 0., 0., 0., 0., 0., 0., 0., 0., 0., 0., 0., 0., 0., 0., 0., 0., 0., 0., 0., 0., 0., 0., 0.,\n",
              "                      0., 0., 0., 0., 0., 0., 0., 0., 0., 0., 0., 0., 0., 0., 0., 0., 0., 0., 0., 0., 0., 0., 0., 0.,\n",
              "                      0., 0., 0., 0., 0., 0., 0., 0., 0., 0., 0., 0., 0., 0., 0., 0., 0., 0., 0., 0., 0., 0., 0., 0.,\n",
              "                      0., 0., 0., 0., 0., 0., 0., 0., 0., 0., 0., 0., 0., 0., 0., 0., 0., 0., 0., 0., 0., 0., 0., 0.,\n",
              "                      0., 0., 0., 0., 0., 0., 0., 0., 0., 0., 0., 0., 0., 0., 0., 0., 0., 0., 0., 0., 0., 0., 0., 0.,\n",
              "                      0., 0., 0., 0., 0., 0., 0., 0., 0., 0., 0., 0., 0., 0., 0., 0., 0., 0., 0., 0., 0., 0., 0., 0.,\n",
              "                      0., 0., 0., 0., 0., 0., 0., 0., 0., 0., 0., 0., 0., 0., 0., 0., 0., 0., 0., 0., 0., 0., 0., 0.,\n",
              "                      0., 0., 0., 0., 0., 0., 0., 0., 0., 0., 0., 0., 0., 0., 0., 0., 0., 0., 0., 0., 0., 0., 0., 0.,\n",
              "                      0., 0., 0., 0., 0., 0., 0., 0., 0., 0., 0., 0., 0., 0., 0., 0., 0., 0., 0., 0., 0., 0., 0., 0.,\n",
              "                      0., 0., 0., 0., 0., 0., 0., 0., 0., 0., 0., 0., 0., 0., 0., 0.])),\n",
              "             ('mlp.W_out',\n",
              "              tensor([[ 0.1598,  0.0019, -0.0018,  ..., -0.0899, -0.0274,  0.2654],\n",
              "                      [ 0.2421, -0.1018,  0.1361,  ...,  0.0186,  0.0935,  0.0861],\n",
              "                      [-0.0544,  0.0315, -0.1071,  ..., -0.0194,  0.0324,  0.0268],\n",
              "                      ...,\n",
              "                      [-0.1757, -0.1582, -0.0174,  ...,  0.1069,  0.0598,  0.1181],\n",
              "                      [-0.0443, -0.0309, -0.0015,  ..., -0.0054,  0.1140, -0.1766],\n",
              "                      [-0.1009,  0.0577,  0.2019,  ..., -0.0791,  0.1486,  0.0295]])),\n",
              "             ('mlp.b_out',\n",
              "              tensor([0., 0., 0., 0., 0., 0., 0., 0., 0., 0., 0., 0., 0., 0., 0., 0., 0., 0., 0., 0., 0., 0., 0., 0.,\n",
              "                      0., 0., 0., 0., 0., 0., 0., 0., 0., 0., 0., 0., 0., 0., 0., 0., 0., 0., 0., 0., 0., 0., 0., 0.,\n",
              "                      0., 0., 0., 0., 0., 0., 0., 0., 0., 0., 0., 0., 0., 0., 0., 0.]))])"
            ]
          },
          "metadata": {},
          "execution_count": 207
        }
      ]
    },
    {
      "cell_type": "markdown",
      "source": [
        "### Model Editting"
      ],
      "metadata": {
        "id": "QTuAF6Py2tc6"
      }
    },
    {
      "cell_type": "code",
      "source": [
        "n_heads_duplicate = 2\n",
        "layer_start, layer_end = 0, 2\n",
        "for layer in range(layer_start, layer_end):\n",
        "  for head in range(1, n_heads_duplicate):\n",
        "    model.blocks[layer].attn.W_Q[head].data[:] = model.blocks[layer].attn.W_Q[0].data[:].clone()\n",
        "    model.blocks[layer].attn.W_K[head].data[:] = model.blocks[layer].attn.W_K[0].data[:].clone()\n",
        "    model.blocks[layer].attn.W_V[head].data[:] = model.blocks[layer].attn.W_V[0].data[:].clone()\n",
        "    model.blocks[layer].attn.W_O[head].data[:] = model.blocks[layer].attn.W_O[0].data[:].clone()\n",
        "model.blocks[layer_start].attn.W_Q[0] - model.blocks[layer_start].attn.W_Q[n_heads_duplicate-1]"
      ],
      "metadata": {
        "id": "EfdPOb5OR-gW",
        "outputId": "d3fa768a-f1f1-4c1e-f2ea-14b29b8a0aa6",
        "colab": {
          "base_uri": "https://localhost:8080/"
        }
      },
      "execution_count": 208,
      "outputs": [
        {
          "output_type": "execute_result",
          "data": {
            "text/plain": [
              "tensor([[0., 0., 0.,  ..., 0., 0., 0.],\n",
              "        [0., 0., 0.,  ..., 0., 0., 0.],\n",
              "        [0., 0., 0.,  ..., 0., 0., 0.],\n",
              "        ...,\n",
              "        [0., 0., 0.,  ..., 0., 0., 0.],\n",
              "        [0., 0., 0.,  ..., 0., 0., 0.],\n",
              "        [0., 0., 0.,  ..., 0., 0., 0.]], grad_fn=<SubBackward0>)"
            ]
          },
          "metadata": {},
          "execution_count": 208
        }
      ]
    },
    {
      "cell_type": "code",
      "source": [
        "old_weight = model.blocks[layer_start].attn.W_Q[0].clone()\n",
        "old_weight"
      ],
      "metadata": {
        "id": "-EajpLuBziPl",
        "outputId": "6a989a00-ff7d-49bf-943c-a732f02867f2",
        "colab": {
          "base_uri": "https://localhost:8080/"
        }
      },
      "execution_count": 209,
      "outputs": [
        {
          "output_type": "execute_result",
          "data": {
            "text/plain": [
              "tensor([[ 0.0253,  0.2366, -0.1061,  ..., -0.0652,  0.0280, -0.2112],\n",
              "        [ 0.0003, -0.0793, -0.0032,  ...,  0.0725, -0.1783, -0.0779],\n",
              "        [ 0.0454, -0.0644,  0.0376,  ...,  0.0997,  0.2580,  0.0604],\n",
              "        ...,\n",
              "        [-0.0304, -0.0751, -0.0753,  ..., -0.0020, -0.0477,  0.0103],\n",
              "        [ 0.0294,  0.0202,  0.0554,  ..., -0.0466,  0.0026,  0.0712],\n",
              "        [ 0.2720, -0.0647, -0.1073,  ...,  0.0254,  0.0256,  0.0658]],\n",
              "       grad_fn=<CloneBackward0>)"
            ]
          },
          "metadata": {},
          "execution_count": 209
        }
      ]
    },
    {
      "cell_type": "code",
      "source": [
        "model.blocks[0].mlp.W_in.data[:] = 0.1\n",
        "model.blocks[0].mlp.W_out.data[:] = 0.1\n",
        "model.blocks[0].mlp.state_dict()"
      ],
      "metadata": {
        "collapsed": true,
        "id": "3_95_Bw55qV9",
        "outputId": "dcdb83e5-49b0-4a41-ddc0-1d7fac2b2809",
        "colab": {
          "base_uri": "https://localhost:8080/"
        }
      },
      "execution_count": 151,
      "outputs": [
        {
          "output_type": "execute_result",
          "data": {
            "text/plain": [
              "OrderedDict([('W_in',\n",
              "              tensor([[0.1000, 0.1000, 0.1000,  ..., 0.1000, 0.1000, 0.1000],\n",
              "                      [0.1000, 0.1000, 0.1000,  ..., 0.1000, 0.1000, 0.1000],\n",
              "                      [0.1000, 0.1000, 0.1000,  ..., 0.1000, 0.1000, 0.1000],\n",
              "                      ...,\n",
              "                      [0.1000, 0.1000, 0.1000,  ..., 0.1000, 0.1000, 0.1000],\n",
              "                      [0.1000, 0.1000, 0.1000,  ..., 0.1000, 0.1000, 0.1000],\n",
              "                      [0.1000, 0.1000, 0.1000,  ..., 0.1000, 0.1000, 0.1000]])),\n",
              "             ('b_in',\n",
              "              tensor([0., 0., 0., 0., 0., 0., 0., 0., 0., 0., 0., 0., 0., 0., 0., 0., 0., 0., 0., 0., 0., 0., 0., 0.,\n",
              "                      0., 0., 0., 0., 0., 0., 0., 0., 0., 0., 0., 0., 0., 0., 0., 0., 0., 0., 0., 0., 0., 0., 0., 0.,\n",
              "                      0., 0., 0., 0., 0., 0., 0., 0., 0., 0., 0., 0., 0., 0., 0., 0., 0., 0., 0., 0., 0., 0., 0., 0.,\n",
              "                      0., 0., 0., 0., 0., 0., 0., 0., 0., 0., 0., 0., 0., 0., 0., 0., 0., 0., 0., 0., 0., 0., 0., 0.,\n",
              "                      0., 0., 0., 0., 0., 0., 0., 0., 0., 0., 0., 0., 0., 0., 0., 0., 0., 0., 0., 0., 0., 0., 0., 0.,\n",
              "                      0., 0., 0., 0., 0., 0., 0., 0., 0., 0., 0., 0., 0., 0., 0., 0., 0., 0., 0., 0., 0., 0., 0., 0.,\n",
              "                      0., 0., 0., 0., 0., 0., 0., 0., 0., 0., 0., 0., 0., 0., 0., 0., 0., 0., 0., 0., 0., 0., 0., 0.,\n",
              "                      0., 0., 0., 0., 0., 0., 0., 0., 0., 0., 0., 0., 0., 0., 0., 0., 0., 0., 0., 0., 0., 0., 0., 0.,\n",
              "                      0., 0., 0., 0., 0., 0., 0., 0., 0., 0., 0., 0., 0., 0., 0., 0., 0., 0., 0., 0., 0., 0., 0., 0.,\n",
              "                      0., 0., 0., 0., 0., 0., 0., 0., 0., 0., 0., 0., 0., 0., 0., 0., 0., 0., 0., 0., 0., 0., 0., 0.,\n",
              "                      0., 0., 0., 0., 0., 0., 0., 0., 0., 0., 0., 0., 0., 0., 0., 0.])),\n",
              "             ('W_out',\n",
              "              tensor([[0.1000, 0.1000, 0.1000,  ..., 0.1000, 0.1000, 0.1000],\n",
              "                      [0.1000, 0.1000, 0.1000,  ..., 0.1000, 0.1000, 0.1000],\n",
              "                      [0.1000, 0.1000, 0.1000,  ..., 0.1000, 0.1000, 0.1000],\n",
              "                      ...,\n",
              "                      [0.1000, 0.1000, 0.1000,  ..., 0.1000, 0.1000, 0.1000],\n",
              "                      [0.1000, 0.1000, 0.1000,  ..., 0.1000, 0.1000, 0.1000],\n",
              "                      [0.1000, 0.1000, 0.1000,  ..., 0.1000, 0.1000, 0.1000]])),\n",
              "             ('b_out',\n",
              "              tensor([0., 0., 0., 0., 0., 0., 0., 0., 0., 0., 0., 0., 0., 0., 0., 0., 0., 0., 0., 0., 0., 0., 0., 0.,\n",
              "                      0., 0., 0., 0., 0., 0., 0., 0., 0., 0., 0., 0., 0., 0., 0., 0., 0., 0., 0., 0., 0., 0., 0., 0.,\n",
              "                      0., 0., 0., 0., 0., 0., 0., 0., 0., 0., 0., 0., 0., 0., 0., 0.]))])"
            ]
          },
          "metadata": {},
          "execution_count": 151
        }
      ]
    },
    {
      "cell_type": "markdown",
      "metadata": {
        "id": "EFoaxDJSOssS"
      },
      "source": [
        "### Setup Optimizer\n"
      ]
    },
    {
      "cell_type": "code",
      "execution_count": 210,
      "metadata": {
        "id": "2EFF12A5OssS"
      },
      "outputs": [],
      "source": [
        "batch_size = 256\n",
        "num_epochs = 100\n",
        "lr = 1e-2\n",
        "betas = (0.9, 0.99)\n",
        "# max_grad_norm = 1.0\n",
        "wd = 0.01\n",
        "optimizer = torch.optim.AdamW(model.parameters(), lr=lr, betas=betas, weight_decay=wd)\n",
        "scheduler = torch.optim.lr_scheduler.LambdaLR(optimizer, lambda i: min(i/100, 1.))\n",
        "\n",
        "data_loader = make_data_generator(cfg, batch_size)"
      ]
    },
    {
      "cell_type": "markdown",
      "metadata": {
        "id": "2izmACqLOssS"
      },
      "source": [
        "## Model Training"
      ]
    },
    {
      "cell_type": "code",
      "execution_count": 211,
      "metadata": {
        "colab": {
          "base_uri": "https://localhost:8080/",
          "height": 754,
          "referenced_widgets": [
            "bffdda4ed8f14b93bcf9b88b0b348b3c",
            "d889da709f224617a1b7a6a19751dd42",
            "af4a61c113294e5881237ff1bd98123f",
            "dfeaa657c447484596db4a93e8ad85d9",
            "04d8cd0eaad748009c680f196edf578e",
            "e3d61f1234ae4b04a28fa1b499f3549c",
            "9fe3a538194b4b28ab910c9ad65709e4",
            "8649333717334889bacccc2476cb09bb",
            "f67484183bdd4a4384398f9d9ee44119",
            "b82f51fc9c0842efbb0f1c7007dd24c8",
            "ab222b6743c64b59b9612a0e8e3e4dbd"
          ]
        },
        "id": "o0EUHj1ROssS",
        "outputId": "ade22640-3be9-45ec-f75b-ec5a44ed9575"
      },
      "outputs": [
        {
          "output_type": "display_data",
          "data": {
            "text/plain": [
              "  0%|          | 0/100 [00:00<?, ?it/s]"
            ],
            "application/vnd.jupyter.widget-view+json": {
              "version_major": 2,
              "version_minor": 0,
              "model_id": "bffdda4ed8f14b93bcf9b88b0b348b3c"
            }
          },
          "metadata": {}
        },
        {
          "output_type": "stream",
          "name": "stdout",
          "text": [
            "Epoch 0: 5.993844985961914\n",
            "Epoch 10: 5.779531002044678\n",
            "Epoch 20: 5.600656986236572\n",
            "Epoch 30: 5.554670810699463\n",
            "Epoch 40: 4.964794158935547\n",
            "Epoch 50: 2.237194061279297\n",
            "Epoch 60: 0.2767258584499359\n",
            "Epoch 70: 0.030183283612132072\n",
            "Epoch 80: 0.007830281741917133\n",
            "Epoch 90: 0.0035802454221993685\n"
          ]
        },
        {
          "output_type": "display_data",
          "data": {
            "text/html": [
              "<html>\n",
              "<head><meta charset=\"utf-8\" /></head>\n",
              "<body>\n",
              "    <div>            <script src=\"https://cdnjs.cloudflare.com/ajax/libs/mathjax/2.7.5/MathJax.js?config=TeX-AMS-MML_SVG\"></script><script type=\"text/javascript\">if (window.MathJax && window.MathJax.Hub && window.MathJax.Hub.Config) {window.MathJax.Hub.Config({SVG: {font: \"STIX-Web\"}});}</script>                <script type=\"text/javascript\">window.PlotlyConfig = {MathJaxConfig: 'local'};</script>\n",
              "        <script charset=\"utf-8\" src=\"https://cdn.plot.ly/plotly-2.24.1.min.js\"></script>                <div id=\"46c3b73d-70c3-4992-b5b0-474979b35598\" class=\"plotly-graph-div\" style=\"height:525px; width:100%;\"></div>            <script type=\"text/javascript\">                                    window.PLOTLYENV=window.PLOTLYENV || {};                                    if (document.getElementById(\"46c3b73d-70c3-4992-b5b0-474979b35598\")) {                    Plotly.newPlot(                        \"46c3b73d-70c3-4992-b5b0-474979b35598\",                        [{\"hovertemplate\":\"variable=0\\u003cbr\\u003eindex=%{x}\\u003cbr\\u003evalue=%{y}\\u003cextra\\u003e\\u003c\\u002fextra\\u003e\",\"legendgroup\":\"0\",\"line\":{\"color\":\"#636efa\",\"dash\":\"solid\"},\"marker\":{\"symbol\":\"circle\"},\"mode\":\"lines\",\"name\":\"0\",\"orientation\":\"v\",\"showlegend\":true,\"x\":[0,1,2,3,4,5,6,7,8,9,10,11,12,13,14,15,16,17,18,19,20,21,22,23,24,25,26,27,28,29,30,31,32,33,34,35,36,37,38,39,40,41,42,43,44,45,46,47,48,49,50,51,52,53,54,55,56,57,58,59,60,61,62,63,64,65,66,67,68,69,70,71,72,73,74,75,76,77,78,79,80,81,82,83,84,85,86,87,88,89,90,91,92,93,94,95,96,97,98,99],\"xaxis\":\"x\",\"y\":[5.993844985961914,5.995517253875732,5.987552642822266,5.9674859046936035,5.949615001678467,5.924499988555908,5.890769958496094,5.864325046539307,5.830609321594238,5.8076066970825195,5.779531002044678,5.745401382446289,5.729689598083496,5.708935737609863,5.688142776489258,5.670848846435547,5.647653579711914,5.637655258178711,5.617030143737793,5.607153415679932,5.600656986236572,5.592353820800781,5.585204601287842,5.587146759033203,5.582431793212891,5.585848331451416,5.579725742340088,5.575714111328125,5.567624568939209,5.562241077423096,5.554670810699463,5.540093421936035,5.523258686065674,5.500696182250977,5.469242095947266,5.434868812561035,5.3872246742248535,5.309223175048828,5.218576431274414,5.0973029136657715,4.964794158935547,4.780104637145996,4.587246894836426,4.349005699157715,4.102649688720703,3.8190736770629883,3.506370782852173,3.201082706451416,2.8843891620635986,2.5642685890197754,2.237194061279297,1.925808310508728,1.6277369260787964,1.3537098169326782,1.1219183206558228,0.9155448079109192,0.7351608276367188,0.5860527753829956,0.4579959809780121,0.35671186447143555,0.2767258584499359,0.21376176178455353,0.16557222604751587,0.12965501844882965,0.1028088927268982,0.08107363432645798,0.06540267914533615,0.053274985402822495,0.04321085661649704,0.035797085613012314,0.030183283612132072,0.02510608732700348,0.0214986652135849,0.01850260980427265,0.016065040603280067,0.013980945572257042,0.012292994186282158,0.011986332014203072,0.009777608327567577,0.008671935647726059,0.007830281741917133,0.007113717030733824,0.006410447880625725,0.0059015946462750435,0.005419906694442034,0.005000925622880459,0.004771855194121599,0.004444431979209185,0.004050357732921839,0.0038882438093423843,0.0035802454221993685,0.003390472149476409,0.0034644275438040495,0.0030431479681283236,0.0028883586637675762,0.0028084085788577795,0.0026450662408024073,0.0025469535030424595,0.0024795031640678644,0.002359168604016304],\"yaxis\":\"y\",\"type\":\"scatter\"}],                        {\"template\":{\"data\":{\"histogram2dcontour\":[{\"type\":\"histogram2dcontour\",\"colorbar\":{\"outlinewidth\":0,\"ticks\":\"\"},\"colorscale\":[[0.0,\"#0d0887\"],[0.1111111111111111,\"#46039f\"],[0.2222222222222222,\"#7201a8\"],[0.3333333333333333,\"#9c179e\"],[0.4444444444444444,\"#bd3786\"],[0.5555555555555556,\"#d8576b\"],[0.6666666666666666,\"#ed7953\"],[0.7777777777777778,\"#fb9f3a\"],[0.8888888888888888,\"#fdca26\"],[1.0,\"#f0f921\"]]}],\"choropleth\":[{\"type\":\"choropleth\",\"colorbar\":{\"outlinewidth\":0,\"ticks\":\"\"}}],\"histogram2d\":[{\"type\":\"histogram2d\",\"colorbar\":{\"outlinewidth\":0,\"ticks\":\"\"},\"colorscale\":[[0.0,\"#0d0887\"],[0.1111111111111111,\"#46039f\"],[0.2222222222222222,\"#7201a8\"],[0.3333333333333333,\"#9c179e\"],[0.4444444444444444,\"#bd3786\"],[0.5555555555555556,\"#d8576b\"],[0.6666666666666666,\"#ed7953\"],[0.7777777777777778,\"#fb9f3a\"],[0.8888888888888888,\"#fdca26\"],[1.0,\"#f0f921\"]]}],\"heatmap\":[{\"type\":\"heatmap\",\"colorbar\":{\"outlinewidth\":0,\"ticks\":\"\"},\"colorscale\":[[0.0,\"#0d0887\"],[0.1111111111111111,\"#46039f\"],[0.2222222222222222,\"#7201a8\"],[0.3333333333333333,\"#9c179e\"],[0.4444444444444444,\"#bd3786\"],[0.5555555555555556,\"#d8576b\"],[0.6666666666666666,\"#ed7953\"],[0.7777777777777778,\"#fb9f3a\"],[0.8888888888888888,\"#fdca26\"],[1.0,\"#f0f921\"]]}],\"heatmapgl\":[{\"type\":\"heatmapgl\",\"colorbar\":{\"outlinewidth\":0,\"ticks\":\"\"},\"colorscale\":[[0.0,\"#0d0887\"],[0.1111111111111111,\"#46039f\"],[0.2222222222222222,\"#7201a8\"],[0.3333333333333333,\"#9c179e\"],[0.4444444444444444,\"#bd3786\"],[0.5555555555555556,\"#d8576b\"],[0.6666666666666666,\"#ed7953\"],[0.7777777777777778,\"#fb9f3a\"],[0.8888888888888888,\"#fdca26\"],[1.0,\"#f0f921\"]]}],\"contourcarpet\":[{\"type\":\"contourcarpet\",\"colorbar\":{\"outlinewidth\":0,\"ticks\":\"\"}}],\"contour\":[{\"type\":\"contour\",\"colorbar\":{\"outlinewidth\":0,\"ticks\":\"\"},\"colorscale\":[[0.0,\"#0d0887\"],[0.1111111111111111,\"#46039f\"],[0.2222222222222222,\"#7201a8\"],[0.3333333333333333,\"#9c179e\"],[0.4444444444444444,\"#bd3786\"],[0.5555555555555556,\"#d8576b\"],[0.6666666666666666,\"#ed7953\"],[0.7777777777777778,\"#fb9f3a\"],[0.8888888888888888,\"#fdca26\"],[1.0,\"#f0f921\"]]}],\"surface\":[{\"type\":\"surface\",\"colorbar\":{\"outlinewidth\":0,\"ticks\":\"\"},\"colorscale\":[[0.0,\"#0d0887\"],[0.1111111111111111,\"#46039f\"],[0.2222222222222222,\"#7201a8\"],[0.3333333333333333,\"#9c179e\"],[0.4444444444444444,\"#bd3786\"],[0.5555555555555556,\"#d8576b\"],[0.6666666666666666,\"#ed7953\"],[0.7777777777777778,\"#fb9f3a\"],[0.8888888888888888,\"#fdca26\"],[1.0,\"#f0f921\"]]}],\"mesh3d\":[{\"type\":\"mesh3d\",\"colorbar\":{\"outlinewidth\":0,\"ticks\":\"\"}}],\"scatter\":[{\"fillpattern\":{\"fillmode\":\"overlay\",\"size\":10,\"solidity\":0.2},\"type\":\"scatter\"}],\"parcoords\":[{\"type\":\"parcoords\",\"line\":{\"colorbar\":{\"outlinewidth\":0,\"ticks\":\"\"}}}],\"scatterpolargl\":[{\"type\":\"scatterpolargl\",\"marker\":{\"colorbar\":{\"outlinewidth\":0,\"ticks\":\"\"}}}],\"bar\":[{\"error_x\":{\"color\":\"#2a3f5f\"},\"error_y\":{\"color\":\"#2a3f5f\"},\"marker\":{\"line\":{\"color\":\"#E5ECF6\",\"width\":0.5},\"pattern\":{\"fillmode\":\"overlay\",\"size\":10,\"solidity\":0.2}},\"type\":\"bar\"}],\"scattergeo\":[{\"type\":\"scattergeo\",\"marker\":{\"colorbar\":{\"outlinewidth\":0,\"ticks\":\"\"}}}],\"scatterpolar\":[{\"type\":\"scatterpolar\",\"marker\":{\"colorbar\":{\"outlinewidth\":0,\"ticks\":\"\"}}}],\"histogram\":[{\"marker\":{\"pattern\":{\"fillmode\":\"overlay\",\"size\":10,\"solidity\":0.2}},\"type\":\"histogram\"}],\"scattergl\":[{\"type\":\"scattergl\",\"marker\":{\"colorbar\":{\"outlinewidth\":0,\"ticks\":\"\"}}}],\"scatter3d\":[{\"type\":\"scatter3d\",\"line\":{\"colorbar\":{\"outlinewidth\":0,\"ticks\":\"\"}},\"marker\":{\"colorbar\":{\"outlinewidth\":0,\"ticks\":\"\"}}}],\"scattermapbox\":[{\"type\":\"scattermapbox\",\"marker\":{\"colorbar\":{\"outlinewidth\":0,\"ticks\":\"\"}}}],\"scatterternary\":[{\"type\":\"scatterternary\",\"marker\":{\"colorbar\":{\"outlinewidth\":0,\"ticks\":\"\"}}}],\"scattercarpet\":[{\"type\":\"scattercarpet\",\"marker\":{\"colorbar\":{\"outlinewidth\":0,\"ticks\":\"\"}}}],\"carpet\":[{\"aaxis\":{\"endlinecolor\":\"#2a3f5f\",\"gridcolor\":\"white\",\"linecolor\":\"white\",\"minorgridcolor\":\"white\",\"startlinecolor\":\"#2a3f5f\"},\"baxis\":{\"endlinecolor\":\"#2a3f5f\",\"gridcolor\":\"white\",\"linecolor\":\"white\",\"minorgridcolor\":\"white\",\"startlinecolor\":\"#2a3f5f\"},\"type\":\"carpet\"}],\"table\":[{\"cells\":{\"fill\":{\"color\":\"#EBF0F8\"},\"line\":{\"color\":\"white\"}},\"header\":{\"fill\":{\"color\":\"#C8D4E3\"},\"line\":{\"color\":\"white\"}},\"type\":\"table\"}],\"barpolar\":[{\"marker\":{\"line\":{\"color\":\"#E5ECF6\",\"width\":0.5},\"pattern\":{\"fillmode\":\"overlay\",\"size\":10,\"solidity\":0.2}},\"type\":\"barpolar\"}],\"pie\":[{\"automargin\":true,\"type\":\"pie\"}]},\"layout\":{\"autotypenumbers\":\"strict\",\"colorway\":[\"#636efa\",\"#EF553B\",\"#00cc96\",\"#ab63fa\",\"#FFA15A\",\"#19d3f3\",\"#FF6692\",\"#B6E880\",\"#FF97FF\",\"#FECB52\"],\"font\":{\"color\":\"#2a3f5f\"},\"hovermode\":\"closest\",\"hoverlabel\":{\"align\":\"left\"},\"paper_bgcolor\":\"white\",\"plot_bgcolor\":\"#E5ECF6\",\"polar\":{\"bgcolor\":\"#E5ECF6\",\"angularaxis\":{\"gridcolor\":\"white\",\"linecolor\":\"white\",\"ticks\":\"\"},\"radialaxis\":{\"gridcolor\":\"white\",\"linecolor\":\"white\",\"ticks\":\"\"}},\"ternary\":{\"bgcolor\":\"#E5ECF6\",\"aaxis\":{\"gridcolor\":\"white\",\"linecolor\":\"white\",\"ticks\":\"\"},\"baxis\":{\"gridcolor\":\"white\",\"linecolor\":\"white\",\"ticks\":\"\"},\"caxis\":{\"gridcolor\":\"white\",\"linecolor\":\"white\",\"ticks\":\"\"}},\"coloraxis\":{\"colorbar\":{\"outlinewidth\":0,\"ticks\":\"\"}},\"colorscale\":{\"sequential\":[[0.0,\"#0d0887\"],[0.1111111111111111,\"#46039f\"],[0.2222222222222222,\"#7201a8\"],[0.3333333333333333,\"#9c179e\"],[0.4444444444444444,\"#bd3786\"],[0.5555555555555556,\"#d8576b\"],[0.6666666666666666,\"#ed7953\"],[0.7777777777777778,\"#fb9f3a\"],[0.8888888888888888,\"#fdca26\"],[1.0,\"#f0f921\"]],\"sequentialminus\":[[0.0,\"#0d0887\"],[0.1111111111111111,\"#46039f\"],[0.2222222222222222,\"#7201a8\"],[0.3333333333333333,\"#9c179e\"],[0.4444444444444444,\"#bd3786\"],[0.5555555555555556,\"#d8576b\"],[0.6666666666666666,\"#ed7953\"],[0.7777777777777778,\"#fb9f3a\"],[0.8888888888888888,\"#fdca26\"],[1.0,\"#f0f921\"]],\"diverging\":[[0,\"#8e0152\"],[0.1,\"#c51b7d\"],[0.2,\"#de77ae\"],[0.3,\"#f1b6da\"],[0.4,\"#fde0ef\"],[0.5,\"#f7f7f7\"],[0.6,\"#e6f5d0\"],[0.7,\"#b8e186\"],[0.8,\"#7fbc41\"],[0.9,\"#4d9221\"],[1,\"#276419\"]]},\"xaxis\":{\"gridcolor\":\"white\",\"linecolor\":\"white\",\"ticks\":\"\",\"title\":{\"standoff\":15},\"zerolinecolor\":\"white\",\"automargin\":true,\"zerolinewidth\":2},\"yaxis\":{\"gridcolor\":\"white\",\"linecolor\":\"white\",\"ticks\":\"\",\"title\":{\"standoff\":15},\"zerolinecolor\":\"white\",\"automargin\":true,\"zerolinewidth\":2},\"scene\":{\"xaxis\":{\"backgroundcolor\":\"#E5ECF6\",\"gridcolor\":\"white\",\"linecolor\":\"white\",\"showbackground\":true,\"ticks\":\"\",\"zerolinecolor\":\"white\",\"gridwidth\":2},\"yaxis\":{\"backgroundcolor\":\"#E5ECF6\",\"gridcolor\":\"white\",\"linecolor\":\"white\",\"showbackground\":true,\"ticks\":\"\",\"zerolinecolor\":\"white\",\"gridwidth\":2},\"zaxis\":{\"backgroundcolor\":\"#E5ECF6\",\"gridcolor\":\"white\",\"linecolor\":\"white\",\"showbackground\":true,\"ticks\":\"\",\"zerolinecolor\":\"white\",\"gridwidth\":2}},\"shapedefaults\":{\"line\":{\"color\":\"#2a3f5f\"}},\"annotationdefaults\":{\"arrowcolor\":\"#2a3f5f\",\"arrowhead\":0,\"arrowwidth\":1},\"geo\":{\"bgcolor\":\"white\",\"landcolor\":\"#E5ECF6\",\"subunitcolor\":\"white\",\"showland\":true,\"showlakes\":true,\"lakecolor\":\"white\"},\"title\":{\"x\":0.05},\"mapbox\":{\"style\":\"light\"}}},\"xaxis\":{\"anchor\":\"y\",\"domain\":[0.0,1.0],\"title\":{\"text\":\"index\"}},\"yaxis\":{\"anchor\":\"x\",\"domain\":[0.0,1.0],\"title\":{\"text\":\"value\"}},\"legend\":{\"title\":{\"text\":\"variable\"},\"tracegroupgap\":0},\"margin\":{\"t\":60}},                        {\"responsive\": true}                    ).then(function(){\n",
              "                            \n",
              "var gd = document.getElementById('46c3b73d-70c3-4992-b5b0-474979b35598');\n",
              "var x = new MutationObserver(function (mutations, observer) {{\n",
              "        var display = window.getComputedStyle(gd).display;\n",
              "        if (!display || display === 'none') {{\n",
              "            console.log([gd, 'removed!']);\n",
              "            Plotly.purge(gd);\n",
              "            observer.disconnect();\n",
              "        }}\n",
              "}});\n",
              "\n",
              "// Listen for the removal of the full notebook cells\n",
              "var notebookContainer = gd.closest('#notebook-container');\n",
              "if (notebookContainer) {{\n",
              "    x.observe(notebookContainer, {childList: true});\n",
              "}}\n",
              "\n",
              "// Listen for the clearing of the current output cell\n",
              "var outputEl = gd.closest('.output');\n",
              "if (outputEl) {{\n",
              "    x.observe(outputEl, {childList: true});\n",
              "}}\n",
              "\n",
              "                        })                };                            </script>        </div>\n",
              "</body>\n",
              "</html>"
            ]
          },
          "metadata": {}
        }
      ],
      "source": [
        "losses = []\n",
        "for epoch in tqdm.tqdm(range(num_epochs)):\n",
        "    tokens = next(data_loader)\n",
        "    # tokens = tokens.cuda()\n",
        "    logits = model(tokens)\n",
        "    loss = loss_fn(logits, tokens)\n",
        "    loss.backward()\n",
        "    optimizer.step()\n",
        "    optimizer.zero_grad()\n",
        "    scheduler.step()\n",
        "    losses.append(loss.item())\n",
        "    if epoch % 10 == 0:\n",
        "        print(f'Epoch {epoch}: {loss.item()}')\n",
        "px.line(losses, labels={\"x\":\"Epoch\", \"y\":\"Loss\"})"
      ]
    },
    {
      "cell_type": "markdown",
      "source": [],
      "metadata": {
        "id": "dw-ibdtA246H"
      }
    },
    {
      "cell_type": "code",
      "source": [
        "new_weight = model.blocks[layer_start].attn.W_Q[0]\n",
        "new_weight - old_weight"
      ],
      "metadata": {
        "id": "QGd9SjlTzdW1",
        "outputId": "b9e6ff9d-4fb7-432d-9434-a7d091fc61bf",
        "colab": {
          "base_uri": "https://localhost:8080/"
        }
      },
      "execution_count": 212,
      "outputs": [
        {
          "output_type": "execute_result",
          "data": {
            "text/plain": [
              "tensor([[ 0.0334,  0.1961, -0.1751,  ...,  0.2123, -0.1080, -0.1708],\n",
              "        [-0.1812, -0.1723,  0.1234,  ..., -0.1161,  0.0986, -0.1645],\n",
              "        [ 0.1388, -0.0331, -0.0881,  ...,  0.0861,  0.0180, -0.1824],\n",
              "        ...,\n",
              "        [-0.1773, -0.0933, -0.1252,  ..., -0.0760, -0.1504,  0.1488],\n",
              "        [-0.0458,  0.1069, -0.0401,  ..., -0.1764,  0.0539,  0.0773],\n",
              "        [ 0.0998, -0.0449,  0.0050,  ..., -0.0018,  0.0317, -0.0397]],\n",
              "       grad_fn=<SubBackward0>)"
            ]
          },
          "metadata": {},
          "execution_count": 212
        }
      ]
    },
    {
      "cell_type": "code",
      "source": [
        "model.blocks[layer_start].attn.W_Q[0] - model.blocks[layer_start].attn.W_Q[n_heads_duplicate-1]"
      ],
      "metadata": {
        "id": "JbpdlJZo0wPZ",
        "outputId": "59610143-e812-45ce-8593-7274a84f40a3",
        "colab": {
          "base_uri": "https://localhost:8080/"
        }
      },
      "execution_count": 213,
      "outputs": [
        {
          "output_type": "execute_result",
          "data": {
            "text/plain": [
              "tensor([[0., 0., 0.,  ..., 0., 0., 0.],\n",
              "        [0., 0., 0.,  ..., 0., 0., 0.],\n",
              "        [0., 0., 0.,  ..., 0., 0., 0.],\n",
              "        ...,\n",
              "        [0., 0., 0.,  ..., 0., 0., 0.],\n",
              "        [0., 0., 0.,  ..., 0., 0., 0.],\n",
              "        [0., 0., 0.,  ..., 0., 0., 0.]], grad_fn=<SubBackward0>)"
            ]
          },
          "metadata": {},
          "execution_count": 213
        }
      ]
    },
    {
      "cell_type": "code",
      "source": [
        "model.blocks[layer_end-1].attn.W_Q[0] - model.blocks[layer_end-1].attn.W_Q[n_heads_duplicate-1]"
      ],
      "metadata": {
        "id": "s4j4wGg1NRrR",
        "outputId": "b4ac3c3f-10bd-463c-c843-a33881a5e442",
        "colab": {
          "base_uri": "https://localhost:8080/"
        }
      },
      "execution_count": 214,
      "outputs": [
        {
          "output_type": "execute_result",
          "data": {
            "text/plain": [
              "tensor([[0., 0., 0.,  ..., 0., 0., 0.],\n",
              "        [0., 0., 0.,  ..., 0., 0., 0.],\n",
              "        [0., 0., 0.,  ..., 0., 0., 0.],\n",
              "        ...,\n",
              "        [0., 0., 0.,  ..., 0., 0., 0.],\n",
              "        [0., 0., 0.,  ..., 0., 0., 0.],\n",
              "        [0., 0., 0.,  ..., 0., 0., 0.]], grad_fn=<SubBackward0>)"
            ]
          },
          "metadata": {},
          "execution_count": 214
        }
      ]
    },
    {
      "cell_type": "code",
      "execution_count": null,
      "metadata": {
        "id": "0-e_19HTOssT"
      },
      "outputs": [],
      "source": [
        "# torch.save(model.state_dict(), \"no_pos_experiment_state_dict_v0.pth\")"
      ]
    }
  ],
  "metadata": {
    "kernelspec": {
      "display_name": "Python 3.7.13 ('base')",
      "language": "python",
      "name": "python3"
    },
    "language_info": {
      "codemirror_mode": {
        "name": "ipython",
        "version": 3
      },
      "file_extension": ".py",
      "mimetype": "text/x-python",
      "name": "python",
      "nbconvert_exporter": "python",
      "pygments_lexer": "ipython3",
      "version": "3.7.13"
    },
    "vscode": {
      "interpreter": {
        "hash": "d4d1e4263499bec80672ea0156c357c1ee493ec2b1c70f0acce89fc37c4a6abe"
      }
    },
    "colab": {
      "provenance": [],
      "include_colab_link": true
    },
    "widgets": {
      "application/vnd.jupyter.widget-state+json": {
        "bffdda4ed8f14b93bcf9b88b0b348b3c": {
          "model_module": "@jupyter-widgets/controls",
          "model_name": "HBoxModel",
          "model_module_version": "1.5.0",
          "state": {
            "_dom_classes": [],
            "_model_module": "@jupyter-widgets/controls",
            "_model_module_version": "1.5.0",
            "_model_name": "HBoxModel",
            "_view_count": null,
            "_view_module": "@jupyter-widgets/controls",
            "_view_module_version": "1.5.0",
            "_view_name": "HBoxView",
            "box_style": "",
            "children": [
              "IPY_MODEL_d889da709f224617a1b7a6a19751dd42",
              "IPY_MODEL_af4a61c113294e5881237ff1bd98123f",
              "IPY_MODEL_dfeaa657c447484596db4a93e8ad85d9"
            ],
            "layout": "IPY_MODEL_04d8cd0eaad748009c680f196edf578e"
          }
        },
        "d889da709f224617a1b7a6a19751dd42": {
          "model_module": "@jupyter-widgets/controls",
          "model_name": "HTMLModel",
          "model_module_version": "1.5.0",
          "state": {
            "_dom_classes": [],
            "_model_module": "@jupyter-widgets/controls",
            "_model_module_version": "1.5.0",
            "_model_name": "HTMLModel",
            "_view_count": null,
            "_view_module": "@jupyter-widgets/controls",
            "_view_module_version": "1.5.0",
            "_view_name": "HTMLView",
            "description": "",
            "description_tooltip": null,
            "layout": "IPY_MODEL_e3d61f1234ae4b04a28fa1b499f3549c",
            "placeholder": "​",
            "style": "IPY_MODEL_9fe3a538194b4b28ab910c9ad65709e4",
            "value": "100%"
          }
        },
        "af4a61c113294e5881237ff1bd98123f": {
          "model_module": "@jupyter-widgets/controls",
          "model_name": "FloatProgressModel",
          "model_module_version": "1.5.0",
          "state": {
            "_dom_classes": [],
            "_model_module": "@jupyter-widgets/controls",
            "_model_module_version": "1.5.0",
            "_model_name": "FloatProgressModel",
            "_view_count": null,
            "_view_module": "@jupyter-widgets/controls",
            "_view_module_version": "1.5.0",
            "_view_name": "ProgressView",
            "bar_style": "success",
            "description": "",
            "description_tooltip": null,
            "layout": "IPY_MODEL_8649333717334889bacccc2476cb09bb",
            "max": 100,
            "min": 0,
            "orientation": "horizontal",
            "style": "IPY_MODEL_f67484183bdd4a4384398f9d9ee44119",
            "value": 100
          }
        },
        "dfeaa657c447484596db4a93e8ad85d9": {
          "model_module": "@jupyter-widgets/controls",
          "model_name": "HTMLModel",
          "model_module_version": "1.5.0",
          "state": {
            "_dom_classes": [],
            "_model_module": "@jupyter-widgets/controls",
            "_model_module_version": "1.5.0",
            "_model_name": "HTMLModel",
            "_view_count": null,
            "_view_module": "@jupyter-widgets/controls",
            "_view_module_version": "1.5.0",
            "_view_name": "HTMLView",
            "description": "",
            "description_tooltip": null,
            "layout": "IPY_MODEL_b82f51fc9c0842efbb0f1c7007dd24c8",
            "placeholder": "​",
            "style": "IPY_MODEL_ab222b6743c64b59b9612a0e8e3e4dbd",
            "value": " 100/100 [00:56&lt;00:00,  2.05it/s]"
          }
        },
        "04d8cd0eaad748009c680f196edf578e": {
          "model_module": "@jupyter-widgets/base",
          "model_name": "LayoutModel",
          "model_module_version": "1.2.0",
          "state": {
            "_model_module": "@jupyter-widgets/base",
            "_model_module_version": "1.2.0",
            "_model_name": "LayoutModel",
            "_view_count": null,
            "_view_module": "@jupyter-widgets/base",
            "_view_module_version": "1.2.0",
            "_view_name": "LayoutView",
            "align_content": null,
            "align_items": null,
            "align_self": null,
            "border": null,
            "bottom": null,
            "display": null,
            "flex": null,
            "flex_flow": null,
            "grid_area": null,
            "grid_auto_columns": null,
            "grid_auto_flow": null,
            "grid_auto_rows": null,
            "grid_column": null,
            "grid_gap": null,
            "grid_row": null,
            "grid_template_areas": null,
            "grid_template_columns": null,
            "grid_template_rows": null,
            "height": null,
            "justify_content": null,
            "justify_items": null,
            "left": null,
            "margin": null,
            "max_height": null,
            "max_width": null,
            "min_height": null,
            "min_width": null,
            "object_fit": null,
            "object_position": null,
            "order": null,
            "overflow": null,
            "overflow_x": null,
            "overflow_y": null,
            "padding": null,
            "right": null,
            "top": null,
            "visibility": null,
            "width": null
          }
        },
        "e3d61f1234ae4b04a28fa1b499f3549c": {
          "model_module": "@jupyter-widgets/base",
          "model_name": "LayoutModel",
          "model_module_version": "1.2.0",
          "state": {
            "_model_module": "@jupyter-widgets/base",
            "_model_module_version": "1.2.0",
            "_model_name": "LayoutModel",
            "_view_count": null,
            "_view_module": "@jupyter-widgets/base",
            "_view_module_version": "1.2.0",
            "_view_name": "LayoutView",
            "align_content": null,
            "align_items": null,
            "align_self": null,
            "border": null,
            "bottom": null,
            "display": null,
            "flex": null,
            "flex_flow": null,
            "grid_area": null,
            "grid_auto_columns": null,
            "grid_auto_flow": null,
            "grid_auto_rows": null,
            "grid_column": null,
            "grid_gap": null,
            "grid_row": null,
            "grid_template_areas": null,
            "grid_template_columns": null,
            "grid_template_rows": null,
            "height": null,
            "justify_content": null,
            "justify_items": null,
            "left": null,
            "margin": null,
            "max_height": null,
            "max_width": null,
            "min_height": null,
            "min_width": null,
            "object_fit": null,
            "object_position": null,
            "order": null,
            "overflow": null,
            "overflow_x": null,
            "overflow_y": null,
            "padding": null,
            "right": null,
            "top": null,
            "visibility": null,
            "width": null
          }
        },
        "9fe3a538194b4b28ab910c9ad65709e4": {
          "model_module": "@jupyter-widgets/controls",
          "model_name": "DescriptionStyleModel",
          "model_module_version": "1.5.0",
          "state": {
            "_model_module": "@jupyter-widgets/controls",
            "_model_module_version": "1.5.0",
            "_model_name": "DescriptionStyleModel",
            "_view_count": null,
            "_view_module": "@jupyter-widgets/base",
            "_view_module_version": "1.2.0",
            "_view_name": "StyleView",
            "description_width": ""
          }
        },
        "8649333717334889bacccc2476cb09bb": {
          "model_module": "@jupyter-widgets/base",
          "model_name": "LayoutModel",
          "model_module_version": "1.2.0",
          "state": {
            "_model_module": "@jupyter-widgets/base",
            "_model_module_version": "1.2.0",
            "_model_name": "LayoutModel",
            "_view_count": null,
            "_view_module": "@jupyter-widgets/base",
            "_view_module_version": "1.2.0",
            "_view_name": "LayoutView",
            "align_content": null,
            "align_items": null,
            "align_self": null,
            "border": null,
            "bottom": null,
            "display": null,
            "flex": null,
            "flex_flow": null,
            "grid_area": null,
            "grid_auto_columns": null,
            "grid_auto_flow": null,
            "grid_auto_rows": null,
            "grid_column": null,
            "grid_gap": null,
            "grid_row": null,
            "grid_template_areas": null,
            "grid_template_columns": null,
            "grid_template_rows": null,
            "height": null,
            "justify_content": null,
            "justify_items": null,
            "left": null,
            "margin": null,
            "max_height": null,
            "max_width": null,
            "min_height": null,
            "min_width": null,
            "object_fit": null,
            "object_position": null,
            "order": null,
            "overflow": null,
            "overflow_x": null,
            "overflow_y": null,
            "padding": null,
            "right": null,
            "top": null,
            "visibility": null,
            "width": null
          }
        },
        "f67484183bdd4a4384398f9d9ee44119": {
          "model_module": "@jupyter-widgets/controls",
          "model_name": "ProgressStyleModel",
          "model_module_version": "1.5.0",
          "state": {
            "_model_module": "@jupyter-widgets/controls",
            "_model_module_version": "1.5.0",
            "_model_name": "ProgressStyleModel",
            "_view_count": null,
            "_view_module": "@jupyter-widgets/base",
            "_view_module_version": "1.2.0",
            "_view_name": "StyleView",
            "bar_color": null,
            "description_width": ""
          }
        },
        "b82f51fc9c0842efbb0f1c7007dd24c8": {
          "model_module": "@jupyter-widgets/base",
          "model_name": "LayoutModel",
          "model_module_version": "1.2.0",
          "state": {
            "_model_module": "@jupyter-widgets/base",
            "_model_module_version": "1.2.0",
            "_model_name": "LayoutModel",
            "_view_count": null,
            "_view_module": "@jupyter-widgets/base",
            "_view_module_version": "1.2.0",
            "_view_name": "LayoutView",
            "align_content": null,
            "align_items": null,
            "align_self": null,
            "border": null,
            "bottom": null,
            "display": null,
            "flex": null,
            "flex_flow": null,
            "grid_area": null,
            "grid_auto_columns": null,
            "grid_auto_flow": null,
            "grid_auto_rows": null,
            "grid_column": null,
            "grid_gap": null,
            "grid_row": null,
            "grid_template_areas": null,
            "grid_template_columns": null,
            "grid_template_rows": null,
            "height": null,
            "justify_content": null,
            "justify_items": null,
            "left": null,
            "margin": null,
            "max_height": null,
            "max_width": null,
            "min_height": null,
            "min_width": null,
            "object_fit": null,
            "object_position": null,
            "order": null,
            "overflow": null,
            "overflow_x": null,
            "overflow_y": null,
            "padding": null,
            "right": null,
            "top": null,
            "visibility": null,
            "width": null
          }
        },
        "ab222b6743c64b59b9612a0e8e3e4dbd": {
          "model_module": "@jupyter-widgets/controls",
          "model_name": "DescriptionStyleModel",
          "model_module_version": "1.5.0",
          "state": {
            "_model_module": "@jupyter-widgets/controls",
            "_model_module_version": "1.5.0",
            "_model_name": "DescriptionStyleModel",
            "_view_count": null,
            "_view_module": "@jupyter-widgets/base",
            "_view_module_version": "1.2.0",
            "_view_name": "StyleView",
            "description_width": ""
          }
        }
      }
    }
  },
  "nbformat": 4,
  "nbformat_minor": 0
}